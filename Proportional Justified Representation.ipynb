{
 "cells": [
  {
   "cell_type": "code",
   "execution_count": 1,
   "id": "aff1474e-f8b6-4ef3-99d4-bdf91f0ba277",
   "metadata": {},
   "outputs": [],
   "source": [
    "import numpy as np"
   ]
  },
  {
   "cell_type": "code",
   "execution_count": 50,
   "id": "b8d7ef51-e45f-4a4b-b59a-7c26f5a9d167",
   "metadata": {},
   "outputs": [],
   "source": [
    "candidates = {\"C1\",\"C2\",\"C3\"}"
   ]
  },
  {
   "cell_type": "code",
   "execution_count": 51,
   "id": "edeb911f-1492-42ca-87a3-c21052b1805a",
   "metadata": {},
   "outputs": [],
   "source": [
    "voters = {\"V1\",\"V2\",\"V3\",\"V4\",\"V5\",\"V6\"}"
   ]
  },
  {
   "cell_type": "code",
   "execution_count": 52,
   "id": "3d7291f8-17f6-4a9a-afb6-d927b1f563a2",
   "metadata": {},
   "outputs": [],
   "source": [
    "winners = {\"C1\",\"C2\"}"
   ]
  },
  {
   "cell_type": "code",
   "execution_count": 53,
   "id": "80310b10-1a17-4424-b43f-271302e72645",
   "metadata": {},
   "outputs": [],
   "source": [
    "approval_dict = {\n",
    "    'V1': {\"C1\", \"C2\"}, \n",
    "    'V2': {\"C2\"}, \n",
    "    'V3': {\"C3\"}, \n",
    "    'V4': {\"C2\", \"C3\"}, \n",
    "    'V5': {\"C1\"}, \n",
    "    'V6': {\"C1\", \"C2\", \"C3\"}}"
   ]
  },
  {
   "cell_type": "code",
   "execution_count": 54,
   "id": "b05a0339-00be-4529-8508-15fc30bee76a",
   "metadata": {},
   "outputs": [],
   "source": [
    "m = len(candidates)\n",
    "k = len(winners)\n",
    "n = len(voters)"
   ]
  },
  {
   "cell_type": "code",
   "execution_count": 55,
   "id": "5007e1f6-e034-49b1-a07e-ace448f3c59a",
   "metadata": {},
   "outputs": [
    {
     "data": {
      "text/plain": [
       "{'C3'}"
      ]
     },
     "execution_count": 55,
     "metadata": {},
     "output_type": "execute_result"
    }
   ],
   "source": [
    "non_winners = candidates - winners\n",
    "non_winners"
   ]
  },
  {
   "cell_type": "code",
   "execution_count": 56,
   "id": "1a1a3c30-c2b4-4f95-9ae5-bbd2f0df7c5c",
   "metadata": {},
   "outputs": [
    {
     "name": "stdout",
     "output_type": "stream",
     "text": [
      "Does not satisfy PJR for l = 1 with subset ('V3', 'V4', 'V6')\n"
     ]
    }
   ],
   "source": [
    "from itertools import chain, combinations\n",
    "\n",
    "def check_PJR(approval_lists, winners, k, n):\n",
    "    # Iterate over all possible sizes of cohesive groups\n",
    "    for l in range(1, k+1):\n",
    "        # Find all subsets of voters that are at least as large as the proportion of seats they represent\n",
    "        for subset_size in range(l * n // k, n+1):\n",
    "            for subset in combinations(approval_lists.keys(), subset_size):\n",
    "                approved_candidates = set.intersection(*(approval_lists[voter] for voter in subset))\n",
    "                # Check if the subset of voters collectively approves at least l candidates\n",
    "                if len(approved_candidates) >= l:\n",
    "                    # Check if there are at least l approved candidates in the winners set\n",
    "                    if len(set.intersection(approved_candidates, winners)) < l:\n",
    "                        print(f\"Does not satisfy PJR for l = {l} with subset {subset}\")\n",
    "                        return\n",
    "    print(\"Satisfies PJR\")\n",
    "    return \n",
    "\n",
    "check_PJR(approval_dict, winners, k, n)"
   ]
  },
  {
   "cell_type": "code",
   "execution_count": 57,
   "id": "0bfacad2-772e-47fb-a14a-7ef024fcf5d1",
   "metadata": {},
   "outputs": [
    {
     "name": "stdout",
     "output_type": "stream",
     "text": [
      "Satisfies PJR\n"
     ]
    }
   ],
   "source": [
    "# Example usage\n",
    "candidates = {\"C1\", \"C2\", \"C3\"}\n",
    "voters = {\"V1\", \"V2\", \"V3\", \"V4\", \"V5\", \"V6\"}\n",
    "winners = {\"C1\", \"C2\"}\n",
    "approval_dict = {\n",
    "    'V1': {\"C1\", \"C2\"},\n",
    "    'V2': {\"C1\", \"C2\"},\n",
    "    'V3': {\"C1\", \"C2\"},\n",
    "    'V4': {\"C1\", \"C2\"},\n",
    "    'V5': {\"C1\", \"C2\"},\n",
    "    'V6': {\"C1\", \"C2\"}\n",
    "}\n",
    "k = len(winners)\n",
    "n = len(voters)\n",
    "\n",
    "check_PJR(approval_dict, winners, k, n)"
   ]
  },
  {
   "cell_type": "code",
   "execution_count": null,
   "id": "5f2fcc9c-6e92-4c4d-ba61-388bd73ae8c3",
   "metadata": {},
   "outputs": [],
   "source": []
  }
 ],
 "metadata": {
  "kernelspec": {
   "display_name": "Python 3 (ipykernel)",
   "language": "python",
   "name": "python3"
  },
  "language_info": {
   "codemirror_mode": {
    "name": "ipython",
    "version": 3
   },
   "file_extension": ".py",
   "mimetype": "text/x-python",
   "name": "python",
   "nbconvert_exporter": "python",
   "pygments_lexer": "ipython3",
   "version": "3.9.12"
  }
 },
 "nbformat": 4,
 "nbformat_minor": 5
}
