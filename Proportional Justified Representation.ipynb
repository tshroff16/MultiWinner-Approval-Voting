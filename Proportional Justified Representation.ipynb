{
 "cells": [
  {
   "cell_type": "code",
   "execution_count": 1,
   "id": "aff1474e-f8b6-4ef3-99d4-bdf91f0ba277",
   "metadata": {},
   "outputs": [],
   "source": [
    "import numpy as np\n",
    "import math\n",
    "from itertools import chain, combinations"
   ]
  },
  {
   "cell_type": "code",
   "execution_count": 2,
   "id": "1a1a3c30-c2b4-4f95-9ae5-bbd2f0df7c5c",
   "metadata": {},
   "outputs": [],
   "source": [
    "def check_PJR(approval_lists, winners, k, n):\n",
    "    # Get approved candidates\n",
    "    approval_values = list()\n",
    "    for value in approval_lists.values():\n",
    "        approval_values.append(value)\n",
    "    # Iterate over all possible sizes of cohesive groups\n",
    "    for l in range(1, k+1):\n",
    "        # Find all subsets of voters that are at least as large as the proportion of seats they represent\n",
    "        for subset in combinations(candidates, l):\n",
    "            # Check 1st condition if |Xs| >= ln/k\n",
    "            #print(f\"Subset: {subset}\")\n",
    "            subset_set = set(subset)\n",
    "            Xs = []\n",
    "            for av in approval_values:\n",
    "                if subset_set.issubset(av):\n",
    "                    Xs.append(av)\n",
    "            #print(f\"Xs: {Xs}, {len(Xs)}, {l*n/k}\")\n",
    "            if len(Xs) >= math.ceil(l * n / k):\n",
    "                intersection_approval_lists = set.intersection(*Xs)\n",
    "                # Check 2nd condition if |intersection_approval_lists| >= l\n",
    "                if len(intersection_approval_lists) >= l:\n",
    "                    union_approval_lists = set.union(*Xs)\n",
    "                    # Check 3rd condition if |intersection of union_approval_lists and winners| >= l\n",
    "                    if len(set.intersection(union_approval_lists, winners)) >= l:\n",
    "                        print(\"Satisfies PJR\")\n",
    "                        continue\n",
    "                    else:\n",
    "                        print(f\"Does not satisfy PJR for l = {l} with subset {subset}\")\n",
    "    return"
   ]
  },
  {
   "cell_type": "code",
   "execution_count": 6,
   "id": "0bfacad2-772e-47fb-a14a-7ef024fcf5d1",
   "metadata": {},
   "outputs": [
    {
     "name": "stdout",
     "output_type": "stream",
     "text": [
      "Satisfies PJR\n",
      "Satisfies PJR\n",
      "Satisfies PJR\n",
      "Satisfies PJR\n",
      "Satisfies PJR\n",
      "Satisfies PJR\n",
      "Satisfies PJR\n",
      "Satisfies PJR\n",
      "Satisfies PJR\n"
     ]
    }
   ],
   "source": [
    "# Example usage - satisfies PJR\n",
    "candidates = {\"C1\", \"C2\", \"C3\", \"C4\", \"C5\", \"C6\"}\n",
    "voters = {\"V1\", \"V2\", \"V3\"}\n",
    "winners = {\"C1\", \"C2\", \"C3\"}\n",
    "approval_lists = {\n",
    "    'V1': {\"C3\", \"C4\", \"C5\", \"C6\"},\n",
    "    'V2': {\"C2\", \"C4\", \"C5\", \"C6\"},\n",
    "    'V3': {\"C1\"}\n",
    "    }\n",
    "k = len(winners)\n",
    "n = len(voters)\n",
    "m = len(voters)\n",
    "check_PJR(approval_lists, winners, k, n)"
   ]
  },
  {
   "cell_type": "code",
   "execution_count": 7,
   "id": "09f751c0-73dc-4103-a502-8cb9a6369b93",
   "metadata": {},
   "outputs": [
    {
     "name": "stdout",
     "output_type": "stream",
     "text": [
      "Satisfies PJR\n",
      "Satisfies PJR\n",
      "Satisfies PJR\n",
      "Satisfies PJR\n",
      "Satisfies PJR\n",
      "Satisfies PJR\n",
      "Does not satisfy PJR for l = 2 with subset ('C6', 'C4')\n",
      "Does not satisfy PJR for l = 2 with subset ('C6', 'C5')\n",
      "Does not satisfy PJR for l = 2 with subset ('C6', 'C3')\n",
      "Does not satisfy PJR for l = 2 with subset ('C4', 'C5')\n",
      "Does not satisfy PJR for l = 2 with subset ('C4', 'C3')\n",
      "Does not satisfy PJR for l = 2 with subset ('C5', 'C3')\n"
     ]
    }
   ],
   "source": [
    "# Example usage - doesn't satisfy PJR\n",
    "candidates = {\"C1\", \"C2\", \"C3\", \"C4\", \"C5\", \"C6\"}\n",
    "voters = {\"V1\", \"V2\", \"V3\", \"V4\", \"V5\", \"V6\"}\n",
    "winners = {\"C1\", \"C2\", \"C3\"}\n",
    "approval_lists = {\n",
    "    'V1': {\"C1\", \"C2\"}, \n",
    "    'V2': {\"C1\", \"C2\"}, \n",
    "    'V3': {\"C3\", \"C4\", \"C5\", \"C6\"}, \n",
    "    'V4': {\"C3\", \"C4\", \"C5\", \"C6\"}, \n",
    "    'V5': {\"C3\", \"C4\", \"C5\", \"C6\"}, \n",
    "    'V6': {\"C3\", \"C4\", \"C5\", \"C6\"}}\n",
    "k = len(winners)\n",
    "n = len(voters)\n",
    "m = len(voters)\n",
    "\n",
    "check_PJR(approval_lists, winners, k, n)"
   ]
  },
  {
   "cell_type": "code",
   "execution_count": 3,
   "id": "a7055841-7582-452e-9f77-4ac80385d9b6",
   "metadata": {},
   "outputs": [
    {
     "name": "stdout",
     "output_type": "stream",
     "text": [
      "Satisfies PJR\n",
      "Satisfies PJR\n"
     ]
    }
   ],
   "source": [
    "# Example usage - satisfy PJR\n",
    "candidates = {\"C1\",\"C2\",\"C3\", \"C4\"}\n",
    "voters = {\"V1\", \"V2\", \"V3\", \"V4\"}\n",
    "winners = {\"C1\", \"C2\"}\n",
    "approval_lists = {\n",
    "    'V1': {\"C1\", \"C3\"},\n",
    "    'V2': {\"C2\", \"C4\"},\n",
    "    'V3': {\"C3\", \"C4\"},\n",
    "    'V4': {\"C3\", \"C4\"}}\n",
    "k = len(winners)\n",
    "n = len(voters)\n",
    "m = len(voters)\n",
    "\n",
    "check_PJR(approval_lists, winners, k, n)"
   ]
  },
  {
   "cell_type": "code",
   "execution_count": 4,
   "id": "e3b3e87a-fca6-4af7-a54c-a833478de000",
   "metadata": {},
   "outputs": [
    {
     "name": "stdout",
     "output_type": "stream",
     "text": [
      "Does not satisfy PJR for l = 1 with subset ('C5',)\n",
      "Does not satisfy PJR for l = 1 with subset ('C3',)\n",
      "Does not satisfy PJR for l = 1 with subset ('C4',)\n"
     ]
    }
   ],
   "source": [
    "# Example usage - doesn't satisfy PJR\n",
    "candidates = {\"C1\",\"C2\",\"C3\", \"C4\", \"C5\"}\n",
    "voters = {\"V1\", \"V2\", \"V3\", \"V4\"}\n",
    "winners = {\"C1\", \"C2\"}\n",
    "approval_lists = {\n",
    "    'V1': {\"C3\", \"C4\", \"C5\"},\n",
    "    'V2': {\"C3\", \"C4\", \"C5\"},\n",
    "    'V3': {\"C1\"},\n",
    "    'V4': {\"C2\"}}\n",
    "k = len(winners)\n",
    "n = len(voters)\n",
    "m = len(voters)\n",
    "\n",
    "check_PJR(approval_lists, winners, k, n)"
   ]
  },
  {
   "cell_type": "code",
   "execution_count": null,
   "id": "a0f19a21-22b2-46d7-a6a8-37532f7b3228",
   "metadata": {},
   "outputs": [],
   "source": []
  }
 ],
 "metadata": {
  "kernelspec": {
   "display_name": "Python 3 (ipykernel)",
   "language": "python",
   "name": "python3"
  },
  "language_info": {
   "codemirror_mode": {
    "name": "ipython",
    "version": 3
   },
   "file_extension": ".py",
   "mimetype": "text/x-python",
   "name": "python",
   "nbconvert_exporter": "python",
   "pygments_lexer": "ipython3",
   "version": "3.9.12"
  }
 },
 "nbformat": 4,
 "nbformat_minor": 5
}
