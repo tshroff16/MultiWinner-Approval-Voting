{
 "cells": [
  {
   "cell_type": "code",
   "execution_count": 1,
   "id": "aff1474e-f8b6-4ef3-99d4-bdf91f0ba277",
   "metadata": {},
   "outputs": [],
   "source": [
    "import numpy as np"
   ]
  },
  {
   "cell_type": "code",
   "execution_count": 2,
   "id": "b8d7ef51-e45f-4a4b-b59a-7c26f5a9d167",
   "metadata": {},
   "outputs": [],
   "source": [
    "candidates = {\"C1\",\"C2\",\"C3\"}"
   ]
  },
  {
   "cell_type": "code",
   "execution_count": 3,
   "id": "edeb911f-1492-42ca-87a3-c21052b1805a",
   "metadata": {},
   "outputs": [],
   "source": [
    "voters = {\"V1\",\"V2\",\"V3\",\"V4\",\"V5\",\"V6\"}"
   ]
  },
  {
   "cell_type": "code",
   "execution_count": 4,
   "id": "3d7291f8-17f6-4a9a-afb6-d927b1f563a2",
   "metadata": {},
   "outputs": [],
   "source": [
    "winners = {\"C1\",\"C2\"}"
   ]
  },
  {
   "cell_type": "code",
   "execution_count": 5,
   "id": "80310b10-1a17-4424-b43f-271302e72645",
   "metadata": {},
   "outputs": [],
   "source": [
    "approval_lists = {\n",
    "    'V1': {\"C1\", \"C2\"}, \n",
    "    'V2': {\"C2\"}, \n",
    "    'V3': {\"C3\"}, \n",
    "    'V4': {\"C2\", \"C3\"}, \n",
    "    'V5': {\"C1\"}, \n",
    "    'V6': {\"C1\", \"C2\", \"C3\"}}"
   ]
  },
  {
   "cell_type": "code",
   "execution_count": 6,
   "id": "b05a0339-00be-4529-8508-15fc30bee76a",
   "metadata": {},
   "outputs": [],
   "source": [
    "m = len(candidates)\n",
    "k = len(winners)\n",
    "n = len(voters)"
   ]
  },
  {
   "cell_type": "code",
   "execution_count": 7,
   "id": "5007e1f6-e034-49b1-a07e-ace448f3c59a",
   "metadata": {},
   "outputs": [
    {
     "data": {
      "text/plain": [
       "{'C3'}"
      ]
     },
     "execution_count": 7,
     "metadata": {},
     "output_type": "execute_result"
    }
   ],
   "source": [
    "non_winners = candidates - winners\n",
    "non_winners"
   ]
  },
  {
   "cell_type": "code",
   "execution_count": 15,
   "id": "1a1a3c30-c2b4-4f95-9ae5-bbd2f0df7c5c",
   "metadata": {},
   "outputs": [
    {
     "name": "stdout",
     "output_type": "stream",
     "text": [
      "I'm here\n",
      "I'm there\n",
      "{'C1', 'C2'}\n",
      "Inside first IF\n",
      "Inside second IF\n",
      "Inside third IF\n",
      "I'm there\n",
      "{'C1', 'C2'}\n",
      "Inside first IF\n",
      "Inside second IF\n",
      "Inside third IF\n",
      "I'm there\n",
      "{'C1', 'C2'}\n",
      "Inside first IF\n",
      "Inside second IF\n",
      "Inside third IF\n",
      "I'm there\n",
      "{'C1', 'C2'}\n",
      "Inside first IF\n",
      "Inside second IF\n",
      "Inside third IF\n",
      "I'm there\n",
      "{'C1', 'C2'}\n",
      "Inside first IF\n",
      "Inside second IF\n",
      "Inside third IF\n",
      "I'm there\n",
      "{'C1', 'C2'}\n",
      "Inside first IF\n",
      "Inside second IF\n",
      "Inside third IF\n",
      "I'm here\n",
      "I'm there\n",
      "{'C1', 'C2'}\n",
      "Inside first IF\n",
      "Inside second IF\n",
      "Inside third IF\n",
      "I'm there\n",
      "{'C1', 'C2'}\n",
      "Inside first IF\n",
      "Inside second IF\n",
      "Inside third IF\n",
      "I'm there\n",
      "{'C1', 'C2'}\n",
      "Inside first IF\n",
      "Inside second IF\n",
      "Inside third IF\n",
      "I'm there\n",
      "{'C1', 'C2'}\n",
      "Inside first IF\n",
      "Inside second IF\n",
      "Inside third IF\n",
      "I'm there\n",
      "{'C1', 'C2'}\n",
      "Inside first IF\n",
      "Inside second IF\n",
      "Inside third IF\n",
      "I'm there\n",
      "{'C1', 'C2'}\n",
      "Inside first IF\n",
      "Inside second IF\n",
      "Inside third IF\n",
      "I'm there\n",
      "{'C1', 'C2'}\n",
      "Inside first IF\n",
      "Inside second IF\n",
      "Inside third IF\n",
      "I'm there\n",
      "{'C1', 'C2'}\n",
      "Inside first IF\n",
      "Inside second IF\n",
      "Inside third IF\n",
      "I'm there\n",
      "{'C1', 'C2'}\n",
      "Inside first IF\n",
      "Inside second IF\n",
      "Inside third IF\n",
      "I'm there\n",
      "{'C1', 'C2'}\n",
      "Inside first IF\n",
      "Inside second IF\n",
      "Inside third IF\n",
      "I'm there\n",
      "{'C1', 'C2'}\n",
      "Inside first IF\n",
      "Inside second IF\n",
      "Inside third IF\n",
      "I'm there\n",
      "{'C1', 'C2'}\n",
      "Inside first IF\n",
      "Inside second IF\n",
      "Inside third IF\n",
      "I'm there\n",
      "{'C1', 'C2'}\n",
      "Inside first IF\n",
      "Inside second IF\n",
      "Inside third IF\n",
      "I'm there\n",
      "{'C1', 'C2'}\n",
      "Inside first IF\n",
      "Inside second IF\n",
      "Inside third IF\n",
      "I'm there\n",
      "{'C1', 'C2'}\n",
      "Inside first IF\n",
      "Inside second IF\n",
      "Inside third IF\n",
      "Satisfies PJR\n"
     ]
    }
   ],
   "source": [
    "from itertools import chain, combinations\n",
    "\n",
    "def check_PJR(approval_lists, winners, k, n):\n",
    "    # Iterate over all possible sizes of cohesive groups\n",
    "    for l in range(1, k+1):\n",
    "        print(\"I'm here\")\n",
    "        # Find all subsets of voters that are at least as large as the proportion of seats they represent\n",
    "        #subset_size = l\n",
    "        #while subset_size == l:\n",
    "            # Xs: subset: {Approval list}\n",
    "        for subset in combinations(approval_lists.keys(), l):\n",
    "            print(\"I'm there\")\n",
    "            # Check 1st condition if |Xs| >= ln/k\n",
    "            if len(subset) >= l * n // k:\n",
    "                intersection_approval_lists = set.intersection(*(approval_lists[voter] for voter in subset))\n",
    "                print(intersection_approval_lists)\n",
    "                print(\"Inside first IF\")\n",
    "                # Check 2nd condition if |intersection_approval_lists| >= l\n",
    "                if len(intersection_approval_lists) >= l:\n",
    "                    union_approval_lists = set.union(*(approval_lists[voter] for voter in subset))\n",
    "                    print(\"Inside second IF\")\n",
    "                    # Check 3rd condition if |intersection of union_approval_lists and winners| >= l\n",
    "                    if len(set.intersection(union_approval_lists, winners)) >= l:\n",
    "                        print(\"Inside third IF\")\n",
    "                        continue\n",
    "                    else:\n",
    "                        print(f\"Does not satisfy PJR for l = {l} with subset {subset}\")\n",
    "                        return\n",
    "            #subset_size += 1\n",
    "    print(\"Satisfies PJR\")\n",
    "    return\n",
    "\n",
    "check_PJR(approval_lists, winners, k, n)"
   ]
  },
  {
   "cell_type": "code",
   "execution_count": 14,
   "id": "0bfacad2-772e-47fb-a14a-7ef024fcf5d1",
   "metadata": {},
   "outputs": [
    {
     "name": "stdout",
     "output_type": "stream",
     "text": [
      "Satisfies PJR\n"
     ]
    }
   ],
   "source": [
    "# Example usage\n",
    "candidates = {\"C1\", \"C2\", \"C3\"}\n",
    "voters = {\"V1\", \"V2\", \"V3\", \"V4\", \"V5\", \"V6\"}\n",
    "winners = {\"C1\", \"C2\"}\n",
    "approval_lists = {\n",
    "    'V1': {\"C1\", \"C2\"},\n",
    "    'V2': {\"C1\", \"C2\"},\n",
    "    'V3': {\"C1\", \"C2\"},\n",
    "    'V4': {\"C1\", \"C2\"},\n",
    "    'V5': {\"C1\", \"C2\"},\n",
    "    'V6': {\"C1\", \"C2\"}\n",
    "}\n",
    "k = len(winners)\n",
    "n = len(voters)\n",
    "\n",
    "check_PJR(approval_lists, winners, k, n)"
   ]
  },
  {
   "cell_type": "code",
   "execution_count": null,
   "id": "5f2fcc9c-6e92-4c4d-ba61-388bd73ae8c3",
   "metadata": {},
   "outputs": [],
   "source": []
  }
 ],
 "metadata": {
  "kernelspec": {
   "display_name": "Python 3 (ipykernel)",
   "language": "python",
   "name": "python3"
  },
  "language_info": {
   "codemirror_mode": {
    "name": "ipython",
    "version": 3
   },
   "file_extension": ".py",
   "mimetype": "text/x-python",
   "name": "python",
   "nbconvert_exporter": "python",
   "pygments_lexer": "ipython3",
   "version": "3.9.12"
  }
 },
 "nbformat": 4,
 "nbformat_minor": 5
}
