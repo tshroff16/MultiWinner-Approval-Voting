{
 "cells": [
  {
   "cell_type": "code",
   "execution_count": 1,
   "id": "aff1474e-f8b6-4ef3-99d4-bdf91f0ba277",
   "metadata": {},
   "outputs": [],
   "source": [
    "import numpy as np"
   ]
  },
  {
   "cell_type": "code",
   "execution_count": 2,
   "id": "b8d7ef51-e45f-4a4b-b59a-7c26f5a9d167",
   "metadata": {},
   "outputs": [],
   "source": [
    "candidates = {\"C1\",\"C2\",\"C3\"}"
   ]
  },
  {
   "cell_type": "code",
   "execution_count": 3,
   "id": "edeb911f-1492-42ca-87a3-c21052b1805a",
   "metadata": {},
   "outputs": [],
   "source": [
    "voters = {\"V1\",\"V2\",\"V3\",\"V4\",\"V5\",\"V6\"}"
   ]
  },
  {
   "cell_type": "code",
   "execution_count": 4,
   "id": "3d7291f8-17f6-4a9a-afb6-d927b1f563a2",
   "metadata": {},
   "outputs": [],
   "source": [
    "winners = {\"C1\",\"C2\"}"
   ]
  },
  {
   "cell_type": "code",
   "execution_count": 5,
   "id": "80310b10-1a17-4424-b43f-271302e72645",
   "metadata": {},
   "outputs": [],
   "source": [
    "approval_lists = {\n",
    "    'V1': {\"C1\", \"C2\"}, \n",
    "    'V2': {\"C2\"}, \n",
    "    'V3': {\"C3\"}, \n",
    "    'V4': {\"C2\", \"C3\"}, \n",
    "    'V5': {\"C1\"}, \n",
    "    'V6': {\"C1\", \"C2\", \"C3\"}}"
   ]
  },
  {
   "cell_type": "code",
   "execution_count": 6,
   "id": "b05a0339-00be-4529-8508-15fc30bee76a",
   "metadata": {},
   "outputs": [],
   "source": [
    "m = len(candidates)\n",
    "k = len(winners)\n",
    "n = len(voters)"
   ]
  },
  {
   "cell_type": "code",
   "execution_count": 7,
   "id": "5007e1f6-e034-49b1-a07e-ace448f3c59a",
   "metadata": {},
   "outputs": [
    {
     "data": {
      "text/plain": [
       "{'C3'}"
      ]
     },
     "execution_count": 7,
     "metadata": {},
     "output_type": "execute_result"
    }
   ],
   "source": [
    "non_winners = candidates - winners\n",
    "non_winners"
   ]
  },
  {
   "cell_type": "code",
   "execution_count": 20,
   "id": "1a1a3c30-c2b4-4f95-9ae5-bbd2f0df7c5c",
   "metadata": {},
   "outputs": [
    {
     "name": "stdout",
     "output_type": "stream",
     "text": [
      "[{'C1', 'C2'}]\n",
      "[{'C1', 'C2'}, {'C2'}]\n",
      "[{'C1', 'C2'}, {'C2'}, {'C3'}]\n",
      "[{'C1', 'C2'}, {'C2'}, {'C3'}, {'C2', 'C3'}]\n",
      "[{'C1', 'C2'}, {'C2'}, {'C3'}, {'C2', 'C3'}, {'C1'}]\n",
      "[{'C1', 'C2'}, {'C2'}, {'C3'}, {'C2', 'C3'}, {'C1'}, {'C1', 'C2', 'C3'}]\n",
      "Subset: ('C1',)\n"
     ]
    },
    {
     "ename": "KeyError",
     "evalue": "'C1'",
     "output_type": "error",
     "traceback": [
      "\u001b[1;31m---------------------------------------------------------------------------\u001b[0m",
      "\u001b[1;31mKeyError\u001b[0m                                  Traceback (most recent call last)",
      "Input \u001b[1;32mIn [20]\u001b[0m, in \u001b[0;36m<cell line: 38>\u001b[1;34m()\u001b[0m\n\u001b[0;32m     35\u001b[0m     \u001b[38;5;28mprint\u001b[39m(\u001b[38;5;124m\"\u001b[39m\u001b[38;5;124mSatisfies PJR\u001b[39m\u001b[38;5;124m\"\u001b[39m)\n\u001b[0;32m     36\u001b[0m     \u001b[38;5;28;01mreturn\u001b[39;00m\n\u001b[1;32m---> 38\u001b[0m \u001b[43mcheck_PJR\u001b[49m\u001b[43m(\u001b[49m\u001b[43mapproval_lists\u001b[49m\u001b[43m,\u001b[49m\u001b[43m \u001b[49m\u001b[43mwinners\u001b[49m\u001b[43m,\u001b[49m\u001b[43m \u001b[49m\u001b[43mk\u001b[49m\u001b[43m,\u001b[49m\u001b[43m \u001b[49m\u001b[43mn\u001b[49m\u001b[43m)\u001b[49m\n",
      "Input \u001b[1;32mIn [20]\u001b[0m, in \u001b[0;36mcheck_PJR\u001b[1;34m(approval_lists, winners, k, n)\u001b[0m\n\u001b[0;32m     15\u001b[0m \u001b[38;5;28;01mfor\u001b[39;00m subset \u001b[38;5;129;01min\u001b[39;00m combinations(candidates, l):\n\u001b[0;32m     16\u001b[0m     \u001b[38;5;66;03m# Check 1st condition if |Xs| >= ln/k\u001b[39;00m\n\u001b[0;32m     17\u001b[0m     \u001b[38;5;66;03m#Xs = [set(sub) for sub in combinations(approval_lists) && sub in subset]\u001b[39;00m\n\u001b[0;32m     18\u001b[0m     \u001b[38;5;28mprint\u001b[39m(\u001b[38;5;124mf\u001b[39m\u001b[38;5;124m\"\u001b[39m\u001b[38;5;124mSubset: \u001b[39m\u001b[38;5;132;01m{\u001b[39;00msubset\u001b[38;5;132;01m}\u001b[39;00m\u001b[38;5;124m\"\u001b[39m)\n\u001b[1;32m---> 19\u001b[0m     Xs \u001b[38;5;241m=\u001b[39m \u001b[38;5;28;43mset\u001b[39;49m\u001b[38;5;241;43m.\u001b[39;49m\u001b[43mintersection\u001b[49m\u001b[43m(\u001b[49m\u001b[38;5;241;43m*\u001b[39;49m\u001b[43m(\u001b[49m\u001b[43mapproval_lists\u001b[49m\u001b[43m[\u001b[49m\u001b[43mv\u001b[49m\u001b[43m]\u001b[49m\u001b[43m \u001b[49m\u001b[38;5;28;43;01mfor\u001b[39;49;00m\u001b[43m \u001b[49m\u001b[43mv\u001b[49m\u001b[43m \u001b[49m\u001b[38;5;129;43;01min\u001b[39;49;00m\u001b[43m \u001b[49m\u001b[43msubset\u001b[49m\u001b[43m)\u001b[49m\u001b[43m)\u001b[49m\n\u001b[0;32m     20\u001b[0m     \u001b[38;5;28;01mif\u001b[39;00m \u001b[38;5;28mlen\u001b[39m(Xs) \u001b[38;5;241m>\u001b[39m\u001b[38;5;241m=\u001b[39m l \u001b[38;5;241m*\u001b[39m n \u001b[38;5;241m/\u001b[39m\u001b[38;5;241m/\u001b[39m k:\n\u001b[0;32m     21\u001b[0m         intersection_approval_lists \u001b[38;5;241m=\u001b[39m \u001b[38;5;28mset\u001b[39m\u001b[38;5;241m.\u001b[39mintersection(\u001b[38;5;241m*\u001b[39m(approval_lists[voter] \u001b[38;5;28;01mfor\u001b[39;00m voter \u001b[38;5;129;01min\u001b[39;00m subset))\n",
      "Input \u001b[1;32mIn [20]\u001b[0m, in \u001b[0;36m<genexpr>\u001b[1;34m(.0)\u001b[0m\n\u001b[0;32m     15\u001b[0m \u001b[38;5;28;01mfor\u001b[39;00m subset \u001b[38;5;129;01min\u001b[39;00m combinations(candidates, l):\n\u001b[0;32m     16\u001b[0m     \u001b[38;5;66;03m# Check 1st condition if |Xs| >= ln/k\u001b[39;00m\n\u001b[0;32m     17\u001b[0m     \u001b[38;5;66;03m#Xs = [set(sub) for sub in combinations(approval_lists) && sub in subset]\u001b[39;00m\n\u001b[0;32m     18\u001b[0m     \u001b[38;5;28mprint\u001b[39m(\u001b[38;5;124mf\u001b[39m\u001b[38;5;124m\"\u001b[39m\u001b[38;5;124mSubset: \u001b[39m\u001b[38;5;132;01m{\u001b[39;00msubset\u001b[38;5;132;01m}\u001b[39;00m\u001b[38;5;124m\"\u001b[39m)\n\u001b[1;32m---> 19\u001b[0m     Xs \u001b[38;5;241m=\u001b[39m \u001b[38;5;28mset\u001b[39m\u001b[38;5;241m.\u001b[39mintersection(\u001b[38;5;241m*\u001b[39m(\u001b[43mapproval_lists\u001b[49m\u001b[43m[\u001b[49m\u001b[43mv\u001b[49m\u001b[43m]\u001b[49m \u001b[38;5;28;01mfor\u001b[39;00m v \u001b[38;5;129;01min\u001b[39;00m subset))\n\u001b[0;32m     20\u001b[0m     \u001b[38;5;28;01mif\u001b[39;00m \u001b[38;5;28mlen\u001b[39m(Xs) \u001b[38;5;241m>\u001b[39m\u001b[38;5;241m=\u001b[39m l \u001b[38;5;241m*\u001b[39m n \u001b[38;5;241m/\u001b[39m\u001b[38;5;241m/\u001b[39m k:\n\u001b[0;32m     21\u001b[0m         intersection_approval_lists \u001b[38;5;241m=\u001b[39m \u001b[38;5;28mset\u001b[39m\u001b[38;5;241m.\u001b[39mintersection(\u001b[38;5;241m*\u001b[39m(approval_lists[voter] \u001b[38;5;28;01mfor\u001b[39;00m voter \u001b[38;5;129;01min\u001b[39;00m subset))\n",
      "\u001b[1;31mKeyError\u001b[0m: 'C1'"
     ]
    }
   ],
   "source": [
    "from itertools import chain, combinations\n",
    "\n",
    "def check_PJR(approval_lists, winners, k, n):\n",
    "    # Iterate over all possible sizes of cohesive groups\n",
    "    #approval_values = list(approval_lists.values())\n",
    "    approval_values = list()\n",
    "    for value in approval_lists.values():\n",
    "        approval_values.append(value)\n",
    "        print(approval_values)\n",
    "    for l in range(1, k+1):\n",
    "        # Find all subsets of voters that are at least as large as the proportion of seats they represent\n",
    "        #subset_size = l\n",
    "        #while subset_size == l:\n",
    "            # Xs: subset: {Approval list}\n",
    "        for subset in combinations(candidates, l):\n",
    "            # Check 1st condition if |Xs| >= ln/k\n",
    "            #Xs = [set(sub) for sub in combinations(approval_lists) && sub in subset]\n",
    "            print(f\"Subset: {subset}\")\n",
    "            Xs = set.intersection(*(approval_lists[v] for v in subset))\n",
    "            if len(Xs) >= l * n // k:\n",
    "                intersection_approval_lists = set.intersection(*(approval_lists[voter] for voter in subset))\n",
    "                print(\"Inside first IF\")\n",
    "                # Check 2nd condition if |intersection_approval_lists| >= l\n",
    "                if len(intersection_approval_lists) >= l:\n",
    "                    union_approval_lists = set.union(*(approval_lists[voter] for voter in subset))\n",
    "                    print(\"Inside second IF\")\n",
    "                    # Check 3rd condition if |intersection of union_approval_lists and winners| >= l\n",
    "                    if len(set.intersection(union_approval_lists, winners)) >= l:\n",
    "                        print(\"Inside third IF\")\n",
    "                        continue\n",
    "                    else:\n",
    "                        print(f\"Does not satisfy PJR for l = {l} with subset {subset}\")\n",
    "                        return\n",
    "            #subset_size += 1\n",
    "    print(\"Satisfies PJR\")\n",
    "    return\n",
    "\n",
    "check_PJR(approval_lists, winners, k, n)"
   ]
  },
  {
   "cell_type": "code",
   "execution_count": null,
   "id": "0bfacad2-772e-47fb-a14a-7ef024fcf5d1",
   "metadata": {},
   "outputs": [],
   "source": [
    "# Example usage\n",
    "candidates = {\"C1\", \"C2\", \"C3\"}\n",
    "voters = {\"V1\", \"V2\", \"V3\", \"V4\", \"V5\", \"V6\"}\n",
    "winners = {\"C1\", \"C2\"}\n",
    "approval_lists = {\n",
    "    'V1': {\"C1\", \"C2\"},\n",
    "    'V2': {\"C1\", \"C2\"},\n",
    "    'V3': {\"C1\", \"C2\"},\n",
    "    'V4': {\"C1\", \"C2\"},\n",
    "    'V5': {\"C1\", \"C2\"},\n",
    "    'V6': {\"C1\", \"C2\"}\n",
    "}\n",
    "k = len(winners)\n",
    "n = len(voters)\n",
    "\n",
    "check_PJR(approval_lists, winners, k, n)"
   ]
  },
  {
   "cell_type": "code",
   "execution_count": null,
   "id": "09f751c0-73dc-4103-a502-8cb9a6369b93",
   "metadata": {},
   "outputs": [],
   "source": [
    "from itertools import combinations\n",
    "\n",
    "approval_lists = {\n",
    "    'V1': {\"C1\", \"C2\"}, \n",
    "    'V2': {\"C2\"}, \n",
    "    'V3': {\"C3\"}, \n",
    "    'V4': {\"C2\", \"C3\"}, \n",
    "    'V5': {\"C1\"}, \n",
    "    'V6': {\"C1\", \"C2\", \"C3\"}\n",
    "}\n",
    "S = {\"C1\", \"C2\", \"C3\"}\n",
    "\n",
    "l = 2\n",
    "\n",
    "def find_approval_subsets(approval_lists, S, l):\n",
    "    subsets = combinations(S, l)\n",
    "    approval_list_subset = combinations(approval_lists.values(), l)\n",
    "    print(approval_list_subset)\n",
    "    result = []\n",
    "\n",
    "    for subset in subsets:\n",
    "        print(subset)\n",
    "        common_approvals = set.intersection(*(approval_list_subset[v] for v in subset))\n",
    "        if common_approvals <= S:\n",
    "            result.append(subset)\n",
    "\n",
    "    return result\n",
    "\n",
    "subsets_of_approval_lists = find_approval_subsets(approval_lists, S, l)\n",
    "print(\"Subsets of approval lists which are subsets of S:\", subsets_of_approval_lists)\n"
   ]
  },
  {
   "cell_type": "code",
   "execution_count": null,
   "id": "a7055841-7582-452e-9f77-4ac80385d9b6",
   "metadata": {},
   "outputs": [],
   "source": [
    "from itertools import combinations\n",
    "\n",
    "def create_subsets_from_dict_values(input_dict, l):\n",
    "    combined_values = set()\n",
    "    for value in input_dict.values():\n",
    "        combined_values.update(value)\n",
    "    subsets = [set(comb) for comb in combinations(combined_values, l)]\n",
    "    return subsets\n",
    "\n",
    "approval_lists = {\n",
    "    'V1': {\"C1\", \"C2\"}, \n",
    "    'V2': {\"C2\"}, \n",
    "    'V3': {\"C3\"}, \n",
    "    'V4': {\"C2\", \"C3\"}, \n",
    "    'V5': {\"C1\"}, \n",
    "    'V6': {\"C1\", \"C2\", \"C3\"}\n",
    "}\n",
    "l = 2\n",
    "\n",
    "subsets = create_subsets_from_dict_values(approval_lists, l)\n",
    "print(\"Subsets of combined dictionary values of length\", l, \":\", subsets)\n"
   ]
  },
  {
   "cell_type": "code",
   "execution_count": null,
   "id": "e611198f-63b7-452d-b781-98f81df62fba",
   "metadata": {},
   "outputs": [],
   "source": []
  }
 ],
 "metadata": {
  "kernelspec": {
   "display_name": "Python 3 (ipykernel)",
   "language": "python",
   "name": "python3"
  },
  "language_info": {
   "codemirror_mode": {
    "name": "ipython",
    "version": 3
   },
   "file_extension": ".py",
   "mimetype": "text/x-python",
   "name": "python",
   "nbconvert_exporter": "python",
   "pygments_lexer": "ipython3",
   "version": "3.9.12"
  }
 },
 "nbformat": 4,
 "nbformat_minor": 5
}
