{
 "cells": [
  {
   "cell_type": "markdown",
   "id": "cfbd61ac",
   "metadata": {},
   "source": [
    "## JR "
   ]
  },
  {
   "cell_type": "code",
   "execution_count": 1,
   "id": "562864ac",
   "metadata": {},
   "outputs": [],
   "source": [
    "C={\"C1\",\"C2\",\"C3\"}"
   ]
  },
  {
   "cell_type": "code",
   "execution_count": 2,
   "id": "7b996240",
   "metadata": {},
   "outputs": [],
   "source": [
    "V={\"V1\",\"V2\",\"V3\",\"V4\",\"V5\",\"V6\"}"
   ]
  },
  {
   "cell_type": "code",
   "execution_count": 3,
   "id": "626fe88f",
   "metadata": {},
   "outputs": [],
   "source": [
    "W={\"C1\",\"C2\"}"
   ]
  },
  {
   "cell_type": "code",
   "execution_count": 4,
   "id": "2082f296",
   "metadata": {},
   "outputs": [],
   "source": [
    "V1={\"C1\",\"C2\"}\n",
    "V2={\"C2\"}\n",
    "V3={\"C3\"}\n",
    "V4={\"C2\",\"C3\"}\n",
    "V5={\"C1\"}\n",
    "V6={\"C1\",\"C2\",\"C3\"}"
   ]
  },
  {
   "cell_type": "code",
   "execution_count": 5,
   "id": "13da8cba",
   "metadata": {},
   "outputs": [],
   "source": [
    "k=len(W)\n",
    "n=len(V)"
   ]
  },
  {
   "cell_type": "code",
   "execution_count": 6,
   "id": "325b5966",
   "metadata": {},
   "outputs": [
    {
     "data": {
      "text/plain": [
       "{'V1': {'C1', 'C2'},\n",
       " 'V2': {'C2'},\n",
       " 'V3': {'C3'},\n",
       " 'V4': {'C2', 'C3'},\n",
       " 'V5': {'C1'},\n",
       " 'V6': {'C1', 'C2', 'C3'}}"
      ]
     },
     "execution_count": 6,
     "metadata": {},
     "output_type": "execute_result"
    }
   ],
   "source": [
    "approval_dict = {'V1': V1, 'V2': V2, 'V3': V3, 'V4': V4, 'V5': V5,'V6':V6}\n",
    "approval_dict"
   ]
  },
  {
   "cell_type": "code",
   "execution_count": 8,
   "id": "1dc32abf",
   "metadata": {},
   "outputs": [
    {
     "data": {
      "text/plain": [
       "{'C3'}"
      ]
     },
     "execution_count": 8,
     "metadata": {},
     "output_type": "execute_result"
    }
   ],
   "source": [
    "non_winners=C-W\n",
    "non_winners"
   ]
  },
  {
   "cell_type": "code",
   "execution_count": 25,
   "id": "00e3e080",
   "metadata": {},
   "outputs": [
    {
     "name": "stdout",
     "output_type": "stream",
     "text": [
      "Winner set satisfy JR.\n"
     ]
    }
   ],
   "source": [
    "counts = {}\n",
    "breaks_jr=False\n",
    "\n",
    "for non_winner in non_winners: # iterate through non winners (for all c belonging to C)\n",
    "    counts[non_winner] = 0\n",
    "    for key, value in approval_dict.items(): # iterate through all approval lists \n",
    "        if non_winner in value and not set(W).intersection(value): #if c belongs to approval list but W intersection Approval list is null\n",
    "            counts[non_winner] += 1\n",
    "            if counts[non_winner] >= n/k:\n",
    "                breaks_jr = True\n",
    "                break  # Exit the inner loop if the condition is met\n",
    "\n",
    "if breaks_jr:\n",
    "    print(\"Winner set breaks JR.\")\n",
    "else:\n",
    "    print(\"Winner set satisfy JR.\")"
   ]
  }
 ],
 "metadata": {
  "kernelspec": {
   "display_name": "Python 3 (ipykernel)",
   "language": "python",
   "name": "python3"
  },
  "language_info": {
   "codemirror_mode": {
    "name": "ipython",
    "version": 3
   },
   "file_extension": ".py",
   "mimetype": "text/x-python",
   "name": "python",
   "nbconvert_exporter": "python",
   "pygments_lexer": "ipython3",
   "version": "3.9.13"
  }
 },
 "nbformat": 4,
 "nbformat_minor": 5
}
