{
 "cells": [
  {
   "cell_type": "code",
   "execution_count": 7,
   "id": "54a8d028",
   "metadata": {},
   "outputs": [
    {
     "name": "stdout",
     "output_type": "stream",
     "text": [
      "Generated votes:\n",
      "Vote 1: [1, 0, 0, 1, 1]\n",
      "Vote 2: [1, 1, 1, 1, 1]\n",
      "Vote 3: [1, 1, 1, 0, 0]\n",
      "Vote 4: [1, 1, 0, 1, 1]\n",
      "Vote 5: [1, 1, 0, 1, 0]\n",
      "Vote 6: [0, 0, 1, 1, 1]\n",
      "Vote 7: [1, 1, 1, 1, 1]\n",
      "Vote 8: [1, 0, 1, 0, 0]\n"
     ]
    }
   ],
   "source": [
    "import random\n",
    "\n",
    "#Generate approvals for each candidate based on a coin flip with probability p.\n",
    "#n (int): Number of candidates.\n",
    "#p (float): Probability of approval for each candidate.\n",
    "#m (int): Number of voters.\n",
    "#phi (float): Probability of resampling approval for each candidate.\n",
    "\n",
    "def generate_base_vote(n, p):\n",
    "    \n",
    "    return [1 if random.random() < p else 0 for _ in range(n)]\n",
    "\n",
    "def simulate_voting(candidates, approvals, m, p, phi):\n",
    "    votes = []\n",
    "    \n",
    "    for _ in range(m):\n",
    "        vote = []\n",
    "        for i, candidate in enumerate(candidates):\n",
    "            if random.random() < phi:\n",
    "                # Resample approval\n",
    "                vote.append(1 if random.random() < p else 0)\n",
    "            else:\n",
    "                # Keep base vote\n",
    "                vote.append(approvals[i])\n",
    "        votes.append(vote)\n",
    "    \n",
    "    return votes\n",
    "\n",
    "# Example usage:\n",
    "candidates = ['C1', 'C2', 'C3', 'C4', 'C5']  # List of candidates\n",
    "p = 0.6  # Probability of approval for each candidate\n",
    "phi = 0.8  # Probability of resampling approval for each candidate\n",
    "m = 8  # Number of voters\n",
    "\n",
    "approvals = generate_base_vote(len(candidates), p)\n",
    "votes = simulate_voting(candidates, approvals, m, p, phi)\n",
    "\n",
    "print(\"Generated votes:\")\n",
    "for i, vote in enumerate(votes, 1):\n",
    "    print(f\"Vote {i}: {vote}\")\n"
   ]
  },
  {
   "cell_type": "code",
   "execution_count": 8,
   "id": "397fed61",
   "metadata": {},
   "outputs": [
    {
     "data": {
      "text/plain": [
       "[1, 1, 0, 1, 1]"
      ]
     },
     "execution_count": 8,
     "metadata": {},
     "output_type": "execute_result"
    }
   ],
   "source": [
    "approvals"
   ]
  },
  {
   "cell_type": "code",
   "execution_count": null,
   "id": "2f823568",
   "metadata": {},
   "outputs": [],
   "source": []
  }
 ],
 "metadata": {
  "kernelspec": {
   "display_name": "Python 3 (ipykernel)",
   "language": "python",
   "name": "python3"
  },
  "language_info": {
   "codemirror_mode": {
    "name": "ipython",
    "version": 3
   },
   "file_extension": ".py",
   "mimetype": "text/x-python",
   "name": "python",
   "nbconvert_exporter": "python",
   "pygments_lexer": "ipython3",
   "version": "3.9.13"
  }
 },
 "nbformat": 4,
 "nbformat_minor": 5
}
