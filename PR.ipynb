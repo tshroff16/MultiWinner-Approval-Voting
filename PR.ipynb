{
 "cells": [
  {
   "cell_type": "code",
   "execution_count": 2,
   "id": "79e17047-604c-4ebf-91ad-45e6b589ffe9",
   "metadata": {},
   "outputs": [
    {
     "name": "stdout",
     "output_type": "stream",
     "text": [
      "Winner C1 has been assigned voters: ['V2', 'V7', 'V6']\n",
      "Winner C2 has been assigned voters: ['V3', 'V5', 'V8']\n",
      "Winner C3 has been assigned voters: ['V1', 'V4']\n"
     ]
    }
   ],
   "source": [
    "def assign_voters_to_winners(voters, winners, approval_votes):\n",
    "    n = len(voters)  \n",
    "    k = len(winners) \n",
    "    voters_per_winner = n // k  \n",
    "   \n",
    "    assignments = {winner: [] for winner in winners}\n",
    "    \n",
    "    unique_voters = []\n",
    "    for voter_index, voter_votes in enumerate(approval_votes):\n",
    "        voted_winners = [winner for winner in winners if winner in voter_votes]\n",
    "        if len(voted_winners) == 1:\n",
    "            assignments[voted_winners[0]].append(voters[voter_index])\n",
    "        else:\n",
    "            unique_voters.append(voter_index) \n",
    "    \n",
    "    for voter_index in unique_voters:\n",
    "        winners_sorted_by_load = sorted(winners, key=lambda w: len(assignments[w]))\n",
    "        for winner in winners_sorted_by_load:\n",
    "            if winner in approval_votes[voter_index]:\n",
    "                if len(assignments[winner]) < voters_per_winner:\n",
    "                    assignments[winner].append(voters[voter_index])\n",
    "                    break\n",
    "                else:\n",
    "                    assignments[winners_sorted_by_load[0]].append(voters[voter_index])\n",
    "                    break\n",
    "    \n",
    "    for winner in winners:\n",
    "        while len(assignments[winner]) < voters_per_winner:\n",
    "            for vw in winners:\n",
    "                if len(assignments[vw]) > voters_per_winner:\n",
    "                    assignments[winner].append(assignments[vw].pop())\n",
    "                    break\n",
    "    \n",
    "    return assignments\n",
    "\n",
    "voters = ['V1', 'V2', 'V3', 'V4', 'V5', 'V6', 'V7', 'V8']\n",
    "winners = ['C1', 'C2', 'C3']\n",
    "approval_votes = [['C1', 'C2'], ['C1'], ['C2'], ['C1', 'C2'], ['C2'], ['C1', 'C3'], ['C1'], ['C1', 'C2', 'C3']]\n",
    "\n",
    "assignments = assign_voters_to_winners(voters, winners, approval_votes)\n",
    "for winner, assigned_voters in assignments.items():\n",
    "    print(f\"Winner {winner} has been assigned voters: {assigned_voters}\")\n"
   ]
  },
  {
   "cell_type": "code",
   "execution_count": 8,
   "id": "c38f6c21-712f-4053-a734-f905101e012c",
   "metadata": {},
   "outputs": [
    {
     "name": "stdout",
     "output_type": "stream",
     "text": [
      "Initial Assignments:  {'C1': [], 'C2': []}\n",
      "ONLY ONE VOTE\n",
      "Assignment: {'C1': ['V2', 'V6', 'V7'], 'C2': ['V3', 'V5']}\n",
      "Unassigned Voters: [0, 3, 7]\n",
      "Voter Preferences:  {'V1': ['C1', 'C2'], 'V4': ['C1', 'C2'], 'V8': ['C1', 'C2']}\n",
      "MORE THAN ONE VOTE\n",
      "Voter:  V1\n",
      "Voter:  V4\n",
      "{'C1': ['V2', 'V6', 'V7', 'V1'], 'C2': ['V3', 'V5', 'V4', 'V8']}\n",
      "Winner C1 has been assigned voters: ['V2', 'V6', 'V7', 'V1']\n",
      "Winner C2 has been assigned voters: ['V3', 'V5', 'V4', 'V8']\n"
     ]
    }
   ],
   "source": [
    "def assign_voters_to_winners(voters, winners, approval_votes):\n",
    "    n = len(voters) \n",
    "    k = len(winners) \n",
    "    voters_per_winner = n // k \n",
    "\n",
    "    assignments = {winner: [] for winner in winners}\n",
    "    print(\"Initial Assignments: \", assignments)\n",
    "    unassigned_voters = []\n",
    "\n",
    "    voter_preferences = {}\n",
    "\n",
    "    # for voters with only one vote\n",
    "    print(\"ONLY ONE VOTE\")\n",
    "    for voter_index, voter_votes in enumerate(approval_votes):\n",
    "        voter_winners = [candidate for candidate in voter_votes if candidate in winners]\n",
    "        if len(voter_winners) == 1: \n",
    "            if len(assignments[voter_winners[0]]) < voters_per_winner:\n",
    "                assignments[voter_winners[0]].append(voters[voter_index])\n",
    "            else:\n",
    "                unassigned_voters.append(voter_index)\n",
    "        else:\n",
    "            unassigned_voters.append(voter_index)\n",
    "            voter_preferences[voters[voter_index]] = voter_winners\n",
    "    print(f\"Assignment: {assignments}\")\n",
    "    print(f\"Unassigned Voters: {unassigned_voters}\")\n",
    "    print(\"Voter Preferences: \", voter_preferences)\n",
    "\n",
    "    print(\"MORE THAN ONE VOTE\")\n",
    "    while unassigned_voters:\n",
    "        for winner in winners:\n",
    "            if len(assignments[winner]) >= voters_per_winner:\n",
    "                continue \n",
    "            \n",
    "            for voter_index in unassigned_voters[:]:\n",
    "                voter = voters[voter_index]\n",
    "                print(\"Voter: \", voter)\n",
    "                if winner in voter_preferences.get(voter, []):\n",
    "                    assignments[winner].append(voter)\n",
    "                    unassigned_voters.remove(voter_index)\n",
    "                    break\n",
    "            if len(assignments[winner]) >= voters_per_winner:\n",
    "                continue\n",
    "            \n",
    "            if unassigned_voters:\n",
    "                voter_index = unassigned_voters.pop(0)\n",
    "                assignments[winner].append(voters[voter_index])\n",
    "            print(assignments)\n",
    "\n",
    "    return assignments\n",
    "\n",
    "voters = ['V1', 'V2', 'V3', 'V4', 'V5', 'V6', 'V7', 'V8']\n",
    "candidates = ['C1', 'C2', 'C3']\n",
    "winners = ['C1', 'C2']\n",
    "approval_votes = [['C1', 'C2'], ['C1'], ['C2'], ['C1', 'C2'], ['C2'], ['C1', 'C3'], ['C1'], ['C1', 'C2', 'C3']]\n",
    "\n",
    "assignments = assign_voters_to_winners(voters, winners, approval_votes)\n",
    "for winner, assigned_voters in assignments.items():\n",
    "    print(f\"Winner {winner} has been assigned voters: {assigned_voters}\")\n"
   ]
  },
  {
   "cell_type": "code",
   "execution_count": null,
   "id": "14eacbda-b7ab-4266-a1d1-3eba7996c413",
   "metadata": {},
   "outputs": [],
   "source": []
  }
 ],
 "metadata": {
  "kernelspec": {
   "display_name": "Python 3 (ipykernel)",
   "language": "python",
   "name": "python3"
  },
  "language_info": {
   "codemirror_mode": {
    "name": "ipython",
    "version": 3
   },
   "file_extension": ".py",
   "mimetype": "text/x-python",
   "name": "python",
   "nbconvert_exporter": "python",
   "pygments_lexer": "ipython3",
   "version": "3.9.12"
  }
 },
 "nbformat": 4,
 "nbformat_minor": 5
}
