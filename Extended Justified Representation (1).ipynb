{
 "cells": [
  {
   "cell_type": "code",
   "execution_count": 1,
   "id": "562864ac",
   "metadata": {},
   "outputs": [],
   "source": [
    "C={\"C1\",\"C2\",\"C3\"}"
   ]
  },
  {
   "cell_type": "code",
   "execution_count": 2,
   "id": "7b996240",
   "metadata": {},
   "outputs": [],
   "source": [
    "V={\"V1\",\"V2\",\"V3\",\"V4\",\"V5\",\"V6\"}"
   ]
  },
  {
   "cell_type": "code",
   "execution_count": 3,
   "id": "626fe88f",
   "metadata": {},
   "outputs": [],
   "source": [
    "W={\"C1\",\"C2\"}"
   ]
  },
  {
   "cell_type": "code",
   "execution_count": 4,
   "id": "2082f296",
   "metadata": {},
   "outputs": [],
   "source": [
    "V1={\"C1\",\"C2\"}\n",
    "V2={\"C2\"}\n",
    "V3={\"C3\"}\n",
    "V4={\"C2\",\"C3\"}\n",
    "V5={\"C1\"}\n",
    "V6={\"C1\",\"C2\",\"C3\"}"
   ]
  },
  {
   "cell_type": "code",
   "execution_count": 5,
   "id": "13da8cba",
   "metadata": {},
   "outputs": [],
   "source": [
    "k=len(W)\n",
    "n=len(V)"
   ]
  },
  {
   "cell_type": "code",
   "execution_count": 6,
   "id": "325b5966",
   "metadata": {},
   "outputs": [
    {
     "data": {
      "text/plain": [
       "{'V1': {'C1', 'C2'},\n",
       " 'V2': {'C2'},\n",
       " 'V3': {'C3'},\n",
       " 'V4': {'C2', 'C3'},\n",
       " 'V5': {'C1'},\n",
       " 'V6': {'C1', 'C2', 'C3'}}"
      ]
     },
     "execution_count": 6,
     "metadata": {},
     "output_type": "execute_result"
    }
   ],
   "source": [
    "approval_dict = {'V1': V1, 'V2': V2, 'V3': V3, 'V4': V4, 'V5': V5,'V6':V6}\n",
    "approval_dict"
   ]
  },
  {
   "cell_type": "code",
   "execution_count": 8,
   "id": "4ab41b16",
   "metadata": {},
   "outputs": [
    {
     "name": "stdout",
     "output_type": "stream",
     "text": [
      "Satisfies EJR\n"
     ]
    }
   ],
   "source": [
    "from itertools import chain, combinations\n",
    "\n",
    "#produces possible subsets of all candidates\n",
    "def powerset(iterable, max_size): \n",
    "    s = list(iterable)\n",
    "    return chain.from_iterable(combinations(s, r) for r in range(1, min(len(s)+1, max_size+1)))\n",
    "\n",
    "def election_algorithm(approval_lists, winners, k, n, C):\n",
    "    S = set(s for s in powerset(C, k) if not set(s).issubset(winners)) #create all subsets of size <=k\n",
    "\n",
    "    for s in S:#iterate through all subsets\n",
    "        l = len(s)\n",
    "        count = 0\n",
    "        for approval_list in approval_lists.values(): #iterate through all approval_lists/profile\n",
    "            if set(s).issubset(approval_list): #if s is a subset of the profile\n",
    "                if abs(len(set(approval_list) & set(winners))) < l: #if profile intersection W is < l\n",
    "                    count += 1\n",
    "        if count >= l * n / k:\n",
    "            print(\"breaks EJR\")\n",
    "            return\n",
    "\n",
    "    print(\"Satisfies EJR\")\n",
    "\n",
    "\n",
    "election_algorithm(approval_dict, W, k, n, C)\n"
   ]
  },
  {
   "cell_type": "code",
   "execution_count": null,
   "id": "efd3aa57",
   "metadata": {},
   "outputs": [],
   "source": []
  }
 ],
 "metadata": {
  "kernelspec": {
   "display_name": "Python 3 (ipykernel)",
   "language": "python",
   "name": "python3"
  },
  "language_info": {
   "codemirror_mode": {
    "name": "ipython",
    "version": 3
   },
   "file_extension": ".py",
   "mimetype": "text/x-python",
   "name": "python",
   "nbconvert_exporter": "python",
   "pygments_lexer": "ipython3",
   "version": "3.9.13"
  }
 },
 "nbformat": 4,
 "nbformat_minor": 5
}
