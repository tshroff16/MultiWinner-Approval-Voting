{
 "cells": [
  {
   "cell_type": "code",
   "execution_count": 11,
   "id": "f5cbdd64",
   "metadata": {},
   "outputs": [],
   "source": [
    "import csv\n",
    "from collections import Counter\n",
    "import pandas as pd\n",
    "from itertools import chain, combinations\n",
    "from tabulate import tabulate\n",
    "import time"
   ]
  },
  {
   "cell_type": "code",
   "execution_count": 12,
   "id": "fb0c525c",
   "metadata": {},
   "outputs": [],
   "source": [
    "# Read the .pb file \n",
    "\n",
    "path = \"netherlands_amsterdam_166_.pb\"  # set this variable\n",
    "with open(path, 'r', newline='', encoding=\"utf-8\") as csvfile:\n",
    "    meta = {}\n",
    "    projects = {}\n",
    "    votes = {}\n",
    "    section = \"\"\n",
    "    header = []\n",
    "    reader = csv.reader(csvfile, delimiter=';')\n",
    "    for row in reader:\n",
    "        if str(row[0]).strip().lower() in [\"meta\", \"projects\", \"votes\"]:\n",
    "            section = str(row[0]).strip().lower()\n",
    "            header = next(reader)\n",
    "        elif section == \"meta\":\n",
    "            meta[row[0]] = row[1].strip()\n",
    "        elif section == \"projects\":\n",
    "            projects[row[0]] = {}\n",
    "            for it, key in enumerate(header[1:]):\n",
    "                projects[row[0]][key.strip()] = row[it+1].strip()\n",
    "        elif section == \"votes\":\n",
    "            votes[row[0]] = {}\n",
    "            for it, key in enumerate(header[1:]):\n",
    "                votes[row[0]][key.strip()] = row[it+1].strip()"
   ]
  },
  {
   "cell_type": "code",
   "execution_count": 13,
   "id": "c626f3c0",
   "metadata": {},
   "outputs": [],
   "source": [
    "#Extract required data from the file\n",
    "C=set(projects.keys())\n",
    "V=set(votes.keys())\n",
    "n=len(V)\n",
    "approval_dict = {key: set(value['vote'].split(',')) for key, value in votes.items()}"
   ]
  },
  {
   "cell_type": "code",
   "execution_count": 14,
   "id": "b3e3e17c",
   "metadata": {},
   "outputs": [
    {
     "name": "stdout",
     "output_type": "stream",
     "text": [
      "Average length of values: 11.927230046948356\n"
     ]
    }
   ],
   "source": [
    "lengths = [len(value) for value in approval_dict.values()]\n",
    "\n",
    "# Calculate the average length\n",
    "average_length = sum(lengths) / len(lengths)\n",
    "\n",
    "print(\"Average length of values:\", average_length)"
   ]
  },
  {
   "cell_type": "code",
   "execution_count": 15,
   "id": "acb569a1",
   "metadata": {},
   "outputs": [
    {
     "data": {
      "text/plain": [
       "1"
      ]
     },
     "execution_count": 15,
     "metadata": {},
     "output_type": "execute_result"
    }
   ],
   "source": [
    "max_length = min(len(value) for value in approval_dict.values())\n",
    "max_length"
   ]
  },
  {
   "cell_type": "code",
   "execution_count": 16,
   "id": "b17168fb",
   "metadata": {},
   "outputs": [],
   "source": [
    "#Creating a df with the projects and the number of votes they got\n",
    "all_values = set()\n",
    "for value_set in approval_dict.values():\n",
    "    all_values.update(value_set)\n",
    "\n",
    "# Count occurrences of each value in the entire dictionary\n",
    "count_dict = Counter()\n",
    "for value_set in approval_dict.values():\n",
    "    count_dict.update(value_set)\n",
    "\n",
    "# Create a list with unique values and their counts\n",
    "result_list = [[value, count_dict[value]] for value in all_values]\n",
    "\n",
    "greedy_list = pd.DataFrame(result_list, columns=['Value', 'Count'])\n",
    "greedy_list = greedy_list.sort_values(by='Count', ascending=False)"
   ]
  },
  {
   "cell_type": "code",
   "execution_count": 17,
   "id": "7da98455",
   "metadata": {},
   "outputs": [
    {
     "data": {
      "text/html": [
       "<div>\n",
       "<style scoped>\n",
       "    .dataframe tbody tr th:only-of-type {\n",
       "        vertical-align: middle;\n",
       "    }\n",
       "\n",
       "    .dataframe tbody tr th {\n",
       "        vertical-align: top;\n",
       "    }\n",
       "\n",
       "    .dataframe thead th {\n",
       "        text-align: right;\n",
       "    }\n",
       "</style>\n",
       "<table border=\"1\" class=\"dataframe\">\n",
       "  <thead>\n",
       "    <tr style=\"text-align: right;\">\n",
       "      <th></th>\n",
       "      <th>Value</th>\n",
       "      <th>Count</th>\n",
       "    </tr>\n",
       "  </thead>\n",
       "  <tbody>\n",
       "    <tr>\n",
       "      <th>11</th>\n",
       "      <td>12437</td>\n",
       "      <td>242</td>\n",
       "    </tr>\n",
       "    <tr>\n",
       "      <th>36</th>\n",
       "      <td>12431</td>\n",
       "      <td>205</td>\n",
       "    </tr>\n",
       "    <tr>\n",
       "      <th>50</th>\n",
       "      <td>12422</td>\n",
       "      <td>167</td>\n",
       "    </tr>\n",
       "  </tbody>\n",
       "</table>\n",
       "</div>"
      ],
      "text/plain": [
       "    Value  Count\n",
       "11  12437    242\n",
       "36  12431    205\n",
       "50  12422    167"
      ]
     },
     "execution_count": 17,
     "metadata": {},
     "output_type": "execute_result"
    }
   ],
   "source": [
    "greedy_list.head(3)"
   ]
  },
  {
   "cell_type": "code",
   "execution_count": 18,
   "id": "9bbe7dfd",
   "metadata": {},
   "outputs": [],
   "source": [
    "# votes"
   ]
  },
  {
   "cell_type": "code",
   "execution_count": null,
   "id": "072e5393",
   "metadata": {},
   "outputs": [
    {
     "name": "stdout",
     "output_type": "stream",
     "text": [
      "+---+---+---------------+----------------------+---------------+--------------------+\n",
      "|   | W |      JR       |     JR Duration      |      EJR      |    EJR Duration    |\n",
      "+---+---+---------------+----------------------+---------------+--------------------+\n",
      "| 0 | 1 | Satisfies JR. | 0.007978200912475586 | Satisfies EJR | 0.0219419002532959 |\n",
      "+---+---+---------------+----------------------+---------------+--------------------+\n",
      "+---+---+---------------+----------------------+---------------+----------------------+\n",
      "|   | W |      JR       |     JR Duration      |      EJR      |     EJR Duration     |\n",
      "+---+---+---------------+----------------------+---------------+----------------------+\n",
      "| 0 | 1 | Satisfies JR. | 0.007978200912475586 | Satisfies EJR |  0.0219419002532959  |\n",
      "| 1 | 2 | Satisfies JR. | 0.004985809326171875 | Satisfies EJR | 0.020943641662597656 |\n",
      "+---+---+---------------+----------------------+---------------+----------------------+\n",
      "+---+---+---------------+----------------------+---------------+----------------------+\n",
      "|   | W |      JR       |     JR Duration      |      EJR      |     EJR Duration     |\n",
      "+---+---+---------------+----------------------+---------------+----------------------+\n",
      "| 0 | 1 | Satisfies JR. | 0.007978200912475586 | Satisfies EJR |  0.0219419002532959  |\n",
      "| 1 | 2 | Satisfies JR. | 0.004985809326171875 | Satisfies EJR | 0.020943641662597656 |\n",
      "| 2 | 3 | Satisfies JR. | 0.004988670349121094 | Satisfies EJR |  0.156449556350708   |\n",
      "+---+---+---------------+----------------------+---------------+----------------------+\n",
      "+---+---+---------------+----------------------+---------------+----------------------+\n",
      "|   | W |      JR       |     JR Duration      |      EJR      |     EJR Duration     |\n",
      "+---+---+---------------+----------------------+---------------+----------------------+\n",
      "| 0 | 1 | Satisfies JR. | 0.007978200912475586 | Satisfies EJR |  0.0219419002532959  |\n",
      "| 1 | 2 | Satisfies JR. | 0.004985809326171875 | Satisfies EJR | 0.020943641662597656 |\n",
      "| 2 | 3 | Satisfies JR. | 0.004988670349121094 | Satisfies EJR |  0.156449556350708   |\n",
      "| 3 | 4 | Satisfies JR. | 0.01396489143371582  | Satisfies EJR |  2.5609652996063232  |\n",
      "+---+---+---------------+----------------------+---------------+----------------------+\n"
     ]
    }
   ],
   "source": [
    "\n",
    "def powerset(iterable, max_size): \n",
    "    s = list(iterable)\n",
    "    return chain.from_iterable(combinations(s, r) for r in range(1, min(len(s)+1, max_size+1)))\n",
    "\n",
    "# Define the function to create the set W dynamically based on its size\n",
    "def create_set_W(df, W):\n",
    "    return set(df.head(W)['Value'])\n",
    "# Define the function for JR\n",
    "def JR(non_winners, approval_dict, W_set, k, n):\n",
    "    start_time = time.time()  # Record start time\n",
    "    counts = {}\n",
    "    breaks_jr = False\n",
    "\n",
    "    for non_winner in non_winners:\n",
    "        counts[non_winner] = 0\n",
    "        for key, value in approval_dict.items():\n",
    "            if non_winner in value and not set(W_set).intersection(value):\n",
    "                counts[non_winner] += 1\n",
    "                if counts[non_winner] >= n / k:\n",
    "                    breaks_jr = True\n",
    "                    break\n",
    "        if breaks_jr:\n",
    "            return \"Breaks JR.\"\n",
    "        \n",
    "    end_time = time.time()  # Record end time\n",
    "    duration = end_time - start_time  # Calculate duration\n",
    "    return \"Satisfies JR.\", duration\n",
    "\n",
    "# Define the function for EJR\n",
    "def EJR(approval_lists, winners, k, n, C,l):\n",
    "    start_time = time.time()  # Record start time\n",
    "    \n",
    "    #FOR L in 1 to k+1, \n",
    "    #new C= where C have atleast nl/k votes \n",
    "    C_modified = [candidate for candidate in C if greedy_list.loc[greedy_list['Value'] == candidate, 'Count'].iloc[0] >= l * n / k]\n",
    "\n",
    "    # Generate subsets S using C_modified\n",
    "    S = set(s for s in powerset(C_modified, k) if not set(s).issubset(winners)) #create all subsets of size <=k\n",
    "    #S = set(s for s in powerset(C, k) if not set(s).issubset(winners)) #create all subsets of size <=k\n",
    "\n",
    "    for s in S:#iterate through all subsets\n",
    "        l = len(s)\n",
    "        count = 0\n",
    "        for approval_list in approval_lists.values(): #iterate through all approval_lists/profile\n",
    "            if set(s).issubset(approval_list): #if s is a subset of the profile\n",
    "                if abs(len(set(approval_list) & set(winners))) < l: #if profile intersection W is < l\n",
    "                    count += 1\n",
    "        if count >= l * n / k:\n",
    "            end_time = time.time()  # Record end time\n",
    "            duration = end_time - start_time  # Calculate duration\n",
    "            return \"breaks EJR\", duration\n",
    "            \n",
    "    end_time = time.time()  # Record end time\n",
    "    duration = end_time - start_time  # Calculate duration\n",
    "    return \"Satisfies EJR\", duration\n",
    "\n",
    "W_range = range(1, 11)\n",
    "results = []\n",
    "\n",
    "# Iterate over different values of W\n",
    "for l in W_range:\n",
    "    for W_value in W_range:\n",
    "        W_set = create_set_W(greedy_list, W_value)\n",
    "        k = len(W_set)\n",
    "        non_winners = C - W_set\n",
    "\n",
    "        # Check for JR\n",
    "        result1, duration1 = JR(non_winners, approval_dict, W_set, k, n)\n",
    "\n",
    "        # Check for EJR\n",
    "        result2, duration2 = EJR(approval_dict, W_set, k, n, C, l)\n",
    "\n",
    "        results.append((W_value, result1, duration1, result2, duration2))\n",
    "\n",
    "        results_df = pd.DataFrame(results, columns=['W', 'JR', 'JR Duration', 'EJR', 'EJR Duration'])\n",
    "\n",
    "        print(tabulate(results_df, headers='keys', tablefmt='pretty'))\n"
   ]
  },
  {
   "cell_type": "code",
   "execution_count": null,
   "id": "4f477738",
   "metadata": {},
   "outputs": [],
   "source": []
  }
 ],
 "metadata": {
  "kernelspec": {
   "display_name": "Python 3 (ipykernel)",
   "language": "python",
   "name": "python3"
  },
  "language_info": {
   "codemirror_mode": {
    "name": "ipython",
    "version": 3
   },
   "file_extension": ".py",
   "mimetype": "text/x-python",
   "name": "python",
   "nbconvert_exporter": "python",
   "pygments_lexer": "ipython3",
   "version": "3.9.13"
  }
 },
 "nbformat": 4,
 "nbformat_minor": 5
}
